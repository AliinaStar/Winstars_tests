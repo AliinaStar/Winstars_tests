{
 "cells": [
  {
   "cell_type": "code",
   "execution_count": 24,
   "metadata": {},
   "outputs": [],
   "source": [
    "import torch\n",
    "import os\n",
    "import sys\n",
    "from PIL import Image\n",
    "import matplotlib.pyplot as plt\n",
    "\n",
    "# Add the current directory to path to ensure imports work\n",
    "sys.path.append('.')\n",
    "\n",
    "# Import the custom modules\n",
    "from ner_inference import AnimalNER\n",
    "from image_classification_inference import AnimalClassifier"
   ]
  },
  {
   "cell_type": "code",
   "execution_count": 25,
   "metadata": {},
   "outputs": [],
   "source": [
    "# Define a corrected version of verify_animal to fix the list vs string issue\n",
    "def verify_animal(text, image_path, ner_model, classifier):\n",
    "    '''\n",
    "    Check if the animal extracted from the text matches the predicted animal from the image.\n",
    "\n",
    "    Args:\n",
    "        text (str): Text input describing the image\n",
    "        image_path (str): Path to the image file\n",
    "        ner_model (AnimalNER): Named Entity Recognition model\n",
    "        classifier (AnimalClassifier): Image classifier model\n",
    "    '''\n",
    "    extracted_animals = ner_model.extract_animals(text)  # This returns a list\n",
    "    predicted_animal, confidence = classifier.predict(image_path)  \n",
    "    \n",
    "    print(f\"Extracted from text: {extracted_animals}\")\n",
    "    print(f\"Predicted from image: {predicted_animal} (confidence: {confidence:.4f})\")\n",
    "    \n",
    "    # Check if the predicted animal is in the list of extracted animals\n",
    "    if not extracted_animals:\n",
    "        return False\n",
    "    \n",
    "    # Compare each extracted animal with the predicted animal\n",
    "    for animal in extracted_animals:\n",
    "        if animal.lower() == predicted_animal.lower():\n",
    "            return True\n",
    "    \n",
    "    return False"
   ]
  },
  {
   "cell_type": "code",
   "execution_count": 26,
   "metadata": {},
   "outputs": [],
   "source": [
    "NER_MODEL_PATH = \"./animal-ner-model\"  \n",
    "CLASSIFIER_MODEL_PATH = \"./animal-classifier\""
   ]
  },
  {
   "cell_type": "code",
   "execution_count": null,
   "metadata": {},
   "outputs": [],
   "source": [
    "def display_image(image_path):\n",
    "    \"\"\"Display an image from the given path\"\"\"\n",
    "    img = Image.open(image_path).convert('RGB')\n",
    "    plt.figure(figsize=(8, 8))\n",
    "    plt.imshow(img)\n",
    "    plt.axis('off')\n",
    "    plt.show()"
   ]
  },
  {
   "cell_type": "code",
   "execution_count": null,
   "metadata": {},
   "outputs": [
    {
     "name": "stdout",
     "output_type": "stream",
     "text": [
      "Loading NER model...\n",
      "Error loading NER model: Incorrect path_or_model_id: './animal_ner_dataset.csv'. Please provide either the path to a local folder or the repo_id of a model on the Hub.\n",
      "Using a placeholder for demonstration purposes.\n"
     ]
    }
   ],
   "source": [
    "# 1. Load the NER model\n",
    "print(\"Loading NER model...\")\n",
    "try:\n",
    "    ner_model = AnimalNER(NER_MODEL_PATH)\n",
    "    print(\"NER model loaded successfully!\")\n",
    "except Exception as e:\n",
    "    print(f\"Error loading NER model: {e}\")\n",
    "    print(\"Using a placeholder for demonstration purposes.\")\n",
    "    \n",
    "    # Define a placeholder NER class for demonstration\n",
    "    class DemoNER:\n",
    "        def __init__(self):\n",
    "            self.animals = [\"bear\", \"beaver\", \"chimpanzee\", \"fox\", \"kangaroo\", \n",
    "                           \"lion\", \"otter\", \"porcupine\", \"raccoon\", \"wolf\"]\n",
    "        \n",
    "        def extract_animals(self, text):\n",
    "            \"\"\"Simple word matching for demonstration\"\"\"\n",
    "            text_lower = text.lower()\n",
    "            found_animals = []\n",
    "            for animal in self.animals:\n",
    "                if animal in text_lower:\n",
    "                    found_animals.append(animal)\n",
    "            return found_animals\n",
    "    \n",
    "    ner_model = DemoNER()"
   ]
  },
  {
   "cell_type": "code",
   "execution_count": null,
   "metadata": {},
   "outputs": [
    {
     "name": "stdout",
     "output_type": "stream",
     "text": [
      "\n",
      "Loading Image Classification model...\n",
      "Error loading classifier model: [Errno 2] No such file or directory: './animal-classifier-model.pth'\n",
      "Using a placeholder for demonstration purposes.\n"
     ]
    }
   ],
   "source": [
    "# 2. Load the Image Classification model\n",
    "print(\"\\nLoading Image Classification model...\")\n",
    "try:\n",
    "    # Look for a model file in the classifier directory\n",
    "    model_files = [f for f in os.listdir(CLASSIFIER_MODEL_PATH) if f.endswith('.pth')]\n",
    "    if model_files:\n",
    "        model_path = os.path.join(CLASSIFIER_MODEL_PATH, model_files[0])\n",
    "        classifier = AnimalClassifier(model_path)\n",
    "        print(f\"Classifier model loaded successfully from {model_path}!\")\n",
    "    else:\n",
    "        # Try to load from the directory itself (some models save the entire directory)\n",
    "        classifier = AnimalClassifier(CLASSIFIER_MODEL_PATH)\n",
    "        print(\"Classifier model loaded successfully!\")\n",
    "except Exception as e:\n",
    "    print(f\"Error loading classifier model: {e}\")\n",
    "    print(\"Using a placeholder for demonstration purposes.\")\n",
    "    \n",
    "    # Define a placeholder Classifier class for demonstration\n",
    "    class DemoClassifier:\n",
    "        def __init__(self):\n",
    "            self.class_names = [\"bear\", \"beaver\", \"chimpanzee\", \"fox\", \"kangaroo\", \n",
    "                               \"lion\", \"otter\", \"porcupine\", \"raccoon\", \"wolf\"]\n",
    "            \n",
    "        def predict(self, image_path):\n",
    "            \"\"\"Return a random prediction for demonstration\"\"\"\n",
    "            import random\n",
    "            class_idx = random.randint(0, len(self.class_names) - 1)\n",
    "            confidence = random.uniform(0.7, 0.99)\n",
    "            return self.class_names[class_idx], confidence\n",
    "    \n",
    "    classifier = DemoClassifier()"
   ]
  },
  {
   "cell_type": "code",
   "execution_count": 27,
   "metadata": {},
   "outputs": [
    {
     "name": "stdout",
     "output_type": "stream",
     "text": [
      "\n",
      "--- Testing Named Entity Recognition ---\n",
      "Text 1: I can see a lion in this image.\n",
      "Extracted animals: ['lion']\n",
      "--------------------------------------------------\n",
      "Text 2: There's a fox hiding in the tall grass.\n",
      "Extracted animals: ['fox']\n",
      "--------------------------------------------------\n",
      "Text 3: The picture shows a bear and its cub.\n",
      "Extracted animals: ['bear']\n",
      "--------------------------------------------------\n",
      "Text 4: Look at this beautiful landscape with mountains.\n",
      "Extracted animals: []\n",
      "--------------------------------------------------\n"
     ]
    }
   ],
   "source": [
    "# 3. Test NER on example texts\n",
    "print(\"\\n--- Testing Named Entity Recognition ---\")\n",
    "example_texts = [\n",
    "    \"I can see a lion in this image.\",\n",
    "    \"There's a fox hiding in the tall grass.\",\n",
    "    \"The picture shows a bear and its cub.\",\n",
    "    \"Look at this beautiful landscape with mountains.\"\n",
    "]\n",
    "\n",
    "for i, text in enumerate(example_texts):\n",
    "    animals = ner_model.extract_animals(text)\n",
    "    print(f\"Text {i+1}: {text}\")\n",
    "    print(f\"Extracted animals: {animals}\")\n",
    "    print(\"-\" * 50)\n",
    "\n"
   ]
  },
  {
   "cell_type": "code",
   "execution_count": 28,
   "metadata": {},
   "outputs": [
    {
     "name": "stdout",
     "output_type": "stream",
     "text": [
      "\n",
      "--- Testing Image Classification ---\n"
     ]
    }
   ],
   "source": [
    "# 4. Test Image Classification\n",
    "print(\"\\n--- Testing Image Classification ---\")\n",
    "# Use the lion_test_image.jpg from your structure\n",
    "sample_images = [\n",
    "    \"./lion_test_image.jpg\"  # Use the image from your root directory\n",
    "]"
   ]
  },
  {
   "cell_type": "code",
   "execution_count": 29,
   "metadata": {},
   "outputs": [],
   "source": [
    "# Add more images if they exist\n",
    "if os.path.exists(\"./data\"):\n",
    "    # Look for any jpg or png files in the data directory\n",
    "    for file in os.listdir(\"./data\"):\n",
    "        if file.lower().endswith(('.jpg', '.jpeg', '.png')) and not file.startswith('.'):\n",
    "            sample_images.append(os.path.join(\"./data\", file))"
   ]
  },
  {
   "cell_type": "code",
   "execution_count": 30,
   "metadata": {},
   "outputs": [
    {
     "data": {
      "image/png": "[encoded data removed]",
      "text/plain": [
       "<Figure size 800x800 with 1 Axes>"
      ]
     },
     "metadata": {},
     "output_type": "display_data"
    },
    {
     "name": "stdout",
     "output_type": "stream",
     "text": [
      "Image: ./lion_test_image.jpg\n",
      "Predicted class: wolf (confidence: 0.8371)\n",
      "--------------------------------------------------\n"
     ]
    }
   ],
   "source": [
    "# Check if the images exist, otherwise just show the prediction code\n",
    "image_exists = False\n",
    "for img_path in sample_images:\n",
    "    if os.path.exists(img_path):\n",
    "        image_exists = True\n",
    "        display_image(img_path)\n",
    "        class_name, confidence = classifier.predict(img_path)\n",
    "        print(f\"Image: {img_path}\")\n",
    "        print(f\"Predicted class: {class_name} (confidence: {confidence:.4f})\")\n",
    "        print(\"-\" * 50)\n",
    "\n",
    "if not image_exists:\n",
    "    print(\"Sample images not found. Here's how you would classify an image:\")\n",
    "    print(\"```python\")\n",
    "    print(\"image_path = 'path_to_your_image.jpg'\")\n",
    "    print(\"class_name, confidence = classifier.predict(image_path)\")\n",
    "    print(\"print(f\\\"Predicted class: {class_name} (confidence: {confidence:.4f})\\\")\")\n",
    "    print(\"```\")"
   ]
  },
  {
   "cell_type": "code",
   "execution_count": 31,
   "metadata": {},
   "outputs": [
    {
     "name": "stdout",
     "output_type": "stream",
     "text": [
      "\n",
      "--- Demonstrating Complete Verification Pipeline ---\n"
     ]
    }
   ],
   "source": [
    "# 5. Demonstrate the complete verification pipeline\n",
    "print(\"\\n--- Demonstrating Complete Verification Pipeline ---\")\n",
    "\n",
    "def run_verification_demo(text, image_path):\n",
    "    print(f\"Text: {text}\")\n",
    "    print(f\"Image: {image_path}\")\n",
    "    \n",
    "    # Check if the image exists\n",
    "    if not os.path.exists(image_path):\n",
    "        print(f\"Image not found at {image_path}. Using a placeholder.\")\n",
    "        # Run with mock data for demonstration\n",
    "        extracted_animals = ner_model.extract_animals(text)\n",
    "        mocked_animal, confidence = \"lion\", 0.95\n",
    "        \n",
    "        print(f\"Extracted from text: {extracted_animals}\")\n",
    "        print(f\"Predicted from image: {mocked_animal} (confidence: {confidence:.4f})\")\n",
    "        \n",
    "        # Simple match check for demonstration\n",
    "        match = any(animal.lower() == mocked_animal.lower() for animal in extracted_animals)\n",
    "        print(f\"Match: {match}\")\n",
    "    else:\n",
    "        # Display the image\n",
    "        display_image(image_path)\n",
    "        \n",
    "        # Run the actual verification - using our fixed function\n",
    "        result = verify_animal(text, image_path, ner_model, classifier)\n",
    "        print(f\"Match: {result}\")\n",
    "    \n",
    "    print(\"-\" * 50)"
   ]
  },
  {
   "cell_type": "code",
   "execution_count": 32,
   "metadata": {},
   "outputs": [
    {
     "name": "stdout",
     "output_type": "stream",
     "text": [
      "Text: There is a lion in the picture.\n",
      "Image: ./lion_test_image.jpg\n"
     ]
    },
    {
     "data": {
      "image/png": "[encoded data removed]",
      "text/plain": [
       "<Figure size 800x800 with 1 Axes>"
      ]
     },
     "metadata": {},
     "output_type": "display_data"
    },
    {
     "name": "stdout",
     "output_type": "stream",
     "text": [
      "Extracted from text: ['lion']\n",
      "Predicted from image: porcupine (confidence: 0.7754)\n",
      "Match: False\n",
      "--------------------------------------------------\n"
     ]
    }
   ],
   "source": [
    "# Demo with the lion image from your structure\n",
    "lion_image = \"./lion_test_image.jpg\"\n",
    "if os.path.exists(lion_image):\n",
    "    run_verification_demo(\"There is a lion in the picture.\", lion_image)\n",
    "else:\n",
    "    print(f\"Lion test image not found at {lion_image}\")\n",
    "    # Look for any image files as fallback\n",
    "    image_files = []\n",
    "    for root, dirs, files in os.walk('.'):\n",
    "        for file in files:\n",
    "            if file.lower().endswith(('.jpg', '.jpeg', '.png')):\n",
    "                image_files.append(os.path.join(root, file))\n",
    "                break\n",
    "        if image_files:\n",
    "            break\n",
    "    \n",
    "    if image_files:\n",
    "        sample_image = image_files[0]\n",
    "        print(f\"Using {sample_image} as a sample image instead.\")\n",
    "        run_verification_demo(\"This is an animal image.\", sample_image)\n",
    "    else:\n",
    "        print(\"No image files found for demonstration.\")"
   ]
  },
  {
   "cell_type": "code",
   "execution_count": 34,
   "metadata": {},
   "outputs": [
    {
     "name": "stdout",
     "output_type": "stream",
     "text": [
      "\n",
      "--- Interactive Demo ---\n",
      "You can run the verification system on your own examples using the following code:\n",
      "```python\n",
      "text = \"Your description of the animal in the image\"\n",
      "image_path = \"path/to/your/image.jpg\"\n",
      "result = verify_animal(text, image_path, ner_model, classifier)\n",
      "print(f\"Match: {result}\")\n",
      "```\n"
     ]
    }
   ],
   "source": [
    "# 6. Interactive demo\n",
    "print(\"\\n--- Interactive Demo ---\")\n",
    "print(\"You can run the verification system on your own examples using the following code:\")\n",
    "print(\"```python\")\n",
    "print(\"text = \\\"Your description of the animal in the image\\\"\")\n",
    "print(\"image_path = \\\"path/to/your/image.jpg\\\"\")\n",
    "print(\"result = verify_animal(text, image_path, ner_model, classifier)\")\n",
    "print(\"print(f\\\"Match: {result}\\\")\")\n",
    "print(\"```\")"
   ]
  },
  {
   "cell_type": "code",
   "execution_count": null,
   "metadata": {},
   "outputs": [
    {
     "name": "stdout",
     "output_type": "stream",
     "text": [
      "\n",
      "--- Interactive Demo ---\n",
      "You can run the verification system on your own examples using the following code:\n",
      "```python\n",
      "text = \"Your description of the animal in the image\"\n",
      "image_path = \"path/to/your/image.jpg\"\n",
      "result = verify_animal(text, image_path, ner_model, classifier)\n",
      "print(f\"Match: {result}\")\n",
      "```\n",
      "Extracted from text: ['lion']\n",
      "Predicted from image: raccoon (confidence: 0.7333)\n",
      "Match: False\n"
     ]
    }
   ],
   "source": [
    "\n",
    "text = input(\"Enter a description of the animal in your image: \")\n",
    "image_path = input(\"Enter the path to your image: \")\n",
    "\n",
    "# Verify\n",
    "if os.path.exists(image_path):\n",
    "    result = verify_animal(text, image_path, ner_model, classifier)\n",
    "    print(f\"Match: {result}\")\n",
    "else:\n",
    "    print(f\"Image not found at {image_path}\")\n"
   ]
  }
 ],
 "metadata": {
  "kernelspec": {
   "display_name": "Python 3",
   "language": "python",
   "name": "python3"
  },
  "language_info": {
   "codemirror_mode": {
    "name": "ipython",
    "version": 3
   },
   "file_extension": ".py",
   "mimetype": "text/x-python",
   "name": "python",
   "nbconvert_exporter": "python",
   "pygments_lexer": "ipython3",
   "version": "3.11.9"
  }
 },
 "nbformat": 4,
 "nbformat_minor": 2
}
